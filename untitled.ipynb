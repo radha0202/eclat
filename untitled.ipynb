{
 "cells": [
  {
   "cell_type": "code",
   "execution_count": 1,
   "metadata": {},
   "outputs": [
    {
     "name": "stdout",
     "output_type": "stream",
     "text": [
      "Frequent Itemsets:\n",
      "{'milk'}: 4\n",
      "{'butter', 'milk'}: 3\n",
      "{'bread', 'milk'}: 3\n",
      "{'butter'}: 4\n",
      "{'bread', 'butter'}: 3\n",
      "{'bread'}: 5\n"
     ]
    }
   ],
   "source": [
    "from itertools import combinations\n",
    "\n",
    "def eclat(prefix, items, min_support, frequent_itemsets):\n",
    "    while items:\n",
    "        item, tids = items.pop()\n",
    "        support = len(tids)\n",
    "\n",
    "        if support >= min_support:\n",
    "            new_prefix = prefix + [item]\n",
    "            frequent_itemsets.append((new_prefix, support))\n",
    "\n",
    "            new_items = []\n",
    "            for other_item, other_tids in items:\n",
    "                new_tids = tids & other_tids  \n",
    "                if len(new_tids) >= min_support:\n",
    "                    new_items.append((other_item, new_tids))\n",
    "\n",
    "            eclat(new_prefix, new_items, min_support, frequent_itemsets)\n",
    "\n",
    "def get_frequent_itemsets(transactions, min_support):\n",
    "    item_tids = {}\n",
    "\n",
    "    for tid, transaction in enumerate(transactions):\n",
    "        for item in transaction:\n",
    "            if item not in item_tids:\n",
    "                item_tids[item] = set()\n",
    "            item_tids[item].add(tid)\n",
    "\n",
    "    min_support_count = min_support * len(transactions)\n",
    "    items = sorted(item_tids.items(), key=lambda x: len(x[1]), reverse=True)\n",
    "\n",
    "    frequent_itemsets = []\n",
    "    eclat([], items, min_support_count, frequent_itemsets)\n",
    "    return frequent_itemsets\n",
    "\n",
    "transactions = [\n",
    "    {'milk', 'bread', 'butter'},\n",
    "    {'beer', 'bread'},\n",
    "    {'milk', 'bread', 'butter'},\n",
    "    {'bread', 'butter'},\n",
    "    {'milk', 'butter'},\n",
    "    {'milk', 'bread'}\n",
    "]\n",
    "\n",
    "min_support = 0.5  \n",
    "\n",
    "frequent_itemsets = get_frequent_itemsets(transactions, min_support)\n",
    "print(\"Frequent Itemsets:\")\n",
    "for itemset, support in frequent_itemsets:\n",
    "    print(f\"{set(itemset)}: {support}\")\n"
   ]
  }
 ],
 "metadata": {
  "kernelspec": {
   "display_name": "Python 3",
   "language": "python",
   "name": "python3"
  },
  "language_info": {
   "codemirror_mode": {
    "name": "ipython",
    "version": 3
   },
   "file_extension": ".py",
   "mimetype": "text/x-python",
   "name": "python",
   "nbconvert_exporter": "python",
   "pygments_lexer": "ipython3",
   "version": "3.12.6"
  }
 },
 "nbformat": 4,
 "nbformat_minor": 2
}
